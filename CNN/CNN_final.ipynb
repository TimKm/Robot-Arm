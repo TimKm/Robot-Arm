{
 "cells": [
  {
   "cell_type": "code",
   "execution_count": 1,
   "metadata": {},
   "outputs": [],
   "source": [
    "import cv2\n",
    "import torch\n",
    "import torch.nn as nn\n",
    "import torchvision.transforms as transforms\n",
    "import torchvision.datasets as datasets\n",
    "from torch.autograd import Variable\n",
    "import matplotlib.pyplot as plt\n",
    "from PIL import Image\n",
    "import numpy as np"
   ]
  },
  {
   "cell_type": "code",
   "execution_count": 2,
   "metadata": {},
   "outputs": [],
   "source": [
    "# Specify the Mean and standard deviation of all the pixels in the MNIST dataset. They are precomputed \n",
    "mean_gray = 0.1307\n",
    "stddev_gray = 0.3081\n",
    "\n",
    "transforms_ori = transforms.Compose([transforms.ToTensor(),\n",
    "                                transforms.Normalize((mean_gray,), (stddev_gray,))])\n",
    "\n",
    "transforms_photo = transforms.Compose([transforms.Resize((28,28)),\n",
    "                                       transforms.ToTensor(),\n",
    "                                       transforms.Normalize((mean_gray,), (stddev_gray,))])\n",
    "\n",
    "#Load our dataset\n",
    "train_dataset = datasets.MNIST(root = './data', \n",
    "                            train = True, \n",
    "                            transform = transforms_ori,\n",
    "                            download = True)\n",
    "\n",
    "test_dataset = datasets.MNIST(root = './data', \n",
    "                            train = False, \n",
    "                            transform = transforms_ori)"
   ]
  },
  {
   "cell_type": "code",
   "execution_count": 5,
   "metadata": {},
   "outputs": [],
   "source": [
    "batch_size = 100"
   ]
  },
  {
   "cell_type": "code",
   "execution_count": 6,
   "metadata": {},
   "outputs": [],
   "source": [
    "#Make the dataset iterable\n",
    "train_load = torch.utils.data.DataLoader(dataset = train_dataset, \n",
    "                                         batch_size = batch_size,\n",
    "                                         shuffle = True)\n",
    "\n",
    "test_load = torch.utils.data.DataLoader(dataset = test_dataset, \n",
    "                                         batch_size = batch_size,\n",
    "                                         shuffle = False)"
   ]
  },
  {
   "cell_type": "code",
   "execution_count": 7,
   "metadata": {},
   "outputs": [
    {
     "name": "stdout",
     "output_type": "stream",
     "text": [
      "There are 60000 images in the training set\n",
      "There are 10000 images in the test set\n",
      "There are 600 batches in the train loader\n",
      "There are 100 batches in the testloader\n"
     ]
    }
   ],
   "source": [
    "print('There are {} images in the training set'.format(len(train_dataset)))\n",
    "print('There are {} images in the test set'.format(len(test_dataset)))\n",
    "print('There are {} batches in the train loader'.format(len(train_load)))\n",
    "print('There are {} batches in the testloader'.format(len(test_load)))"
   ]
  },
  {
   "cell_type": "code",
   "execution_count": 8,
   "metadata": {},
   "outputs": [],
   "source": [
    "#Create the model class\n",
    "class CNN(nn.Module):\n",
    "    def __init__(self):\n",
    "        super(CNN,self).__init__()\n",
    "        self.cnn1 = nn.Conv2d(in_channels=1, out_channels=8, kernel_size=3,stride=1, padding=1)\n",
    "        self.batchnorm1 = nn.BatchNorm2d(8)\n",
    "        #RELU\n",
    "        self.relu = nn.ReLU()\n",
    "        self.maxpool1 = nn.MaxPool2d(kernel_size=2)\n",
    "        self.cnn2 = nn.Conv2d(in_channels=8, out_channels=32, kernel_size=5, stride=1, padding=2)\n",
    "        self.batchnorm2 = nn.BatchNorm2d(32)\n",
    "        self.maxpool2 = nn.MaxPool2d(kernel_size=2)\n",
    "        self.fc1 = nn.Linear(in_features=1568, out_features=600)\n",
    "        self.droput = nn.Dropout(p=0.5)\n",
    "        self.fc2 = nn.Linear(in_features=600, out_features=10)\n",
    "    def forward(self,x):\n",
    "        out = self.cnn1(x)\n",
    "        out = self.batchnorm1(out)\n",
    "        out = self.relu(out)\n",
    "        out = self.maxpool1(out)\n",
    "        out = self.cnn2(out)\n",
    "        out = self.batchnorm2(out)\n",
    "        out = self.relu(out)\n",
    "        out = self.maxpool2(out)\n",
    "        out = out.view(-1,1568)\n",
    "        out = self.fc1(out)\n",
    "        out = self.relu(out)\n",
    "        out = self.droput(out)\n",
    "        out = self.fc2(out)\n",
    "        return out"
   ]
  },
  {
   "cell_type": "code",
   "execution_count": 9,
   "metadata": {},
   "outputs": [],
   "source": [
    "model = CNN()\n",
    "CUDA = torch.cuda.is_available()\n",
    "if CUDA:\n",
    "    model = model.cuda()    \n",
    "loss_fn = nn.CrossEntropyLoss()        \n",
    "optimizer = torch.optim.Adam(model.parameters(), lr = 0.01)"
   ]
  },
  {
   "cell_type": "code",
   "execution_count": 10,
   "metadata": {
    "scrolled": true
   },
   "outputs": [],
   "source": []
  },
  {
   "cell_type": "code",
   "execution_count": 11,
   "metadata": {
    "scrolled": false
   },
   "outputs": [
    {
     "name": "stderr",
     "output_type": "stream",
     "text": [
      "C:\\ProgramData\\Anaconda3\\lib\\site-packages\\ipykernel_launcher.py:34: UserWarning: invalid index of a 0-dim tensor. This will be an error in PyTorch 0.5. Use tensor.item() to convert a 0-dim tensor to a Python number\n",
      "C:\\ProgramData\\Anaconda3\\lib\\site-packages\\ipykernel_launcher.py:68: UserWarning: invalid index of a 0-dim tensor. This will be an error in PyTorch 0.5. Use tensor.item() to convert a 0-dim tensor to a Python number\n"
     ]
    },
    {
     "name": "stdout",
     "output_type": "stream",
     "text": [
      "Epoch 1/100, Training Loss: 0.315722, Training Accuracy: 91.000000, Testing Loss: 0.000690, Testing Acc: 98.000000\n",
      "Epoch 2/100, Training Loss: 0.089104, Training Accuracy: 97.000000, Testing Loss: 0.000169, Testing Acc: 98.000000\n",
      "Epoch 3/100, Training Loss: 0.074359, Training Accuracy: 97.000000, Testing Loss: 0.000478, Testing Acc: 98.000000\n",
      "Epoch 4/100, Training Loss: 0.066837, Training Accuracy: 98.000000, Testing Loss: 0.000027, Testing Acc: 99.000000\n",
      "Epoch 5/100, Training Loss: 0.055318, Training Accuracy: 98.000000, Testing Loss: 0.000063, Testing Acc: 98.000000\n",
      "Epoch 6/100, Training Loss: 0.054894, Training Accuracy: 98.000000, Testing Loss: 0.000029, Testing Acc: 98.000000\n",
      "Epoch 7/100, Training Loss: 0.050997, Training Accuracy: 98.000000, Testing Loss: 0.000012, Testing Acc: 99.000000\n",
      "Epoch 8/100, Training Loss: 0.051821, Training Accuracy: 98.000000, Testing Loss: 0.000002, Testing Acc: 98.000000\n",
      "Epoch 9/100, Training Loss: 0.051297, Training Accuracy: 98.000000, Testing Loss: 0.000365, Testing Acc: 98.000000\n",
      "Epoch 10/100, Training Loss: 0.049609, Training Accuracy: 98.000000, Testing Loss: 0.000602, Testing Acc: 98.000000\n",
      "Epoch 11/100, Training Loss: 0.043997, Training Accuracy: 98.000000, Testing Loss: 0.000048, Testing Acc: 99.000000\n",
      "Epoch 12/100, Training Loss: 0.046071, Training Accuracy: 98.000000, Testing Loss: 0.000008, Testing Acc: 98.000000\n",
      "Epoch 13/100, Training Loss: 0.042689, Training Accuracy: 98.000000, Testing Loss: 0.000020, Testing Acc: 98.000000\n",
      "Epoch 14/100, Training Loss: 0.042461, Training Accuracy: 98.000000, Testing Loss: 0.000014, Testing Acc: 99.000000\n",
      "Epoch 15/100, Training Loss: 0.037465, Training Accuracy: 98.000000, Testing Loss: 0.000006, Testing Acc: 99.000000\n",
      "Epoch 16/100, Training Loss: 0.043854, Training Accuracy: 98.000000, Testing Loss: 0.000244, Testing Acc: 99.000000\n",
      "Epoch 17/100, Training Loss: 0.041292, Training Accuracy: 98.000000, Testing Loss: 0.000000, Testing Acc: 99.000000\n",
      "Epoch 18/100, Training Loss: 0.040535, Training Accuracy: 98.000000, Testing Loss: 0.000015, Testing Acc: 99.000000\n",
      "Epoch 19/100, Training Loss: 0.038541, Training Accuracy: 98.000000, Testing Loss: 0.000078, Testing Acc: 98.000000\n",
      "Epoch 20/100, Training Loss: 0.041455, Training Accuracy: 98.000000, Testing Loss: 0.000001, Testing Acc: 98.000000\n",
      "Epoch 21/100, Training Loss: 0.038941, Training Accuracy: 98.000000, Testing Loss: 0.000000, Testing Acc: 99.000000\n",
      "Epoch 22/100, Training Loss: 0.036571, Training Accuracy: 99.000000, Testing Loss: 0.000001, Testing Acc: 98.000000\n",
      "Epoch 23/100, Training Loss: 0.033448, Training Accuracy: 99.000000, Testing Loss: 0.000000, Testing Acc: 99.000000\n",
      "Epoch 24/100, Training Loss: 0.041060, Training Accuracy: 98.000000, Testing Loss: 0.000000, Testing Acc: 99.000000\n",
      "Epoch 25/100, Training Loss: 0.034186, Training Accuracy: 99.000000, Testing Loss: 0.000006, Testing Acc: 98.000000\n",
      "Epoch 26/100, Training Loss: 0.036452, Training Accuracy: 99.000000, Testing Loss: 0.000000, Testing Acc: 98.000000\n",
      "Epoch 27/100, Training Loss: 0.035321, Training Accuracy: 99.000000, Testing Loss: 0.000017, Testing Acc: 98.000000\n",
      "Epoch 28/100, Training Loss: 0.038272, Training Accuracy: 99.000000, Testing Loss: 0.000000, Testing Acc: 99.000000\n",
      "Epoch 29/100, Training Loss: 0.032729, Training Accuracy: 99.000000, Testing Loss: 0.000001, Testing Acc: 99.000000\n",
      "Epoch 30/100, Training Loss: 0.028888, Training Accuracy: 99.000000, Testing Loss: 0.000007, Testing Acc: 98.000000\n",
      "Epoch 31/100, Training Loss: 0.033603, Training Accuracy: 99.000000, Testing Loss: 0.000000, Testing Acc: 99.000000\n",
      "Epoch 32/100, Training Loss: 0.041970, Training Accuracy: 99.000000, Testing Loss: 0.000002, Testing Acc: 98.000000\n",
      "Epoch 33/100, Training Loss: 0.031512, Training Accuracy: 99.000000, Testing Loss: 0.000001, Testing Acc: 99.000000\n",
      "Epoch 34/100, Training Loss: 0.029258, Training Accuracy: 99.000000, Testing Loss: 0.000001, Testing Acc: 99.000000\n",
      "Epoch 35/100, Training Loss: 0.034756, Training Accuracy: 99.000000, Testing Loss: 0.000029, Testing Acc: 99.000000\n",
      "Epoch 36/100, Training Loss: 0.033648, Training Accuracy: 99.000000, Testing Loss: 0.000000, Testing Acc: 99.000000\n",
      "Epoch 37/100, Training Loss: 0.029245, Training Accuracy: 99.000000, Testing Loss: 0.000000, Testing Acc: 99.000000\n",
      "Epoch 38/100, Training Loss: 0.032211, Training Accuracy: 99.000000, Testing Loss: 0.000000, Testing Acc: 99.000000\n",
      "Epoch 39/100, Training Loss: 0.035315, Training Accuracy: 99.000000, Testing Loss: 0.000536, Testing Acc: 99.000000\n",
      "Epoch 40/100, Training Loss: 0.039003, Training Accuracy: 99.000000, Testing Loss: 0.000003, Testing Acc: 99.000000\n",
      "Epoch 41/100, Training Loss: 0.028830, Training Accuracy: 99.000000, Testing Loss: 0.000000, Testing Acc: 98.000000\n",
      "Epoch 42/100, Training Loss: 0.028845, Training Accuracy: 99.000000, Testing Loss: 0.000000, Testing Acc: 99.000000\n",
      "Epoch 43/100, Training Loss: 0.034180, Training Accuracy: 99.000000, Testing Loss: 0.000000, Testing Acc: 98.000000\n",
      "Epoch 44/100, Training Loss: 0.036048, Training Accuracy: 99.000000, Testing Loss: 0.000000, Testing Acc: 98.000000\n",
      "Epoch 45/100, Training Loss: 0.037979, Training Accuracy: 99.000000, Testing Loss: 0.000000, Testing Acc: 99.000000\n",
      "Epoch 46/100, Training Loss: 0.027849, Training Accuracy: 99.000000, Testing Loss: 0.000000, Testing Acc: 99.000000\n",
      "Epoch 47/100, Training Loss: 0.026024, Training Accuracy: 99.000000, Testing Loss: 0.000000, Testing Acc: 98.000000\n",
      "Epoch 48/100, Training Loss: 0.036398, Training Accuracy: 99.000000, Testing Loss: 0.000001, Testing Acc: 98.000000\n",
      "Epoch 49/100, Training Loss: 0.028729, Training Accuracy: 99.000000, Testing Loss: 0.000000, Testing Acc: 99.000000\n",
      "Epoch 50/100, Training Loss: 0.039121, Training Accuracy: 99.000000, Testing Loss: 0.000000, Testing Acc: 99.000000\n",
      "Epoch 51/100, Training Loss: 0.035019, Training Accuracy: 99.000000, Testing Loss: 0.000000, Testing Acc: 99.000000\n",
      "Epoch 52/100, Training Loss: 0.022268, Training Accuracy: 99.000000, Testing Loss: 0.000002, Testing Acc: 99.000000\n",
      "Epoch 53/100, Training Loss: 0.037327, Training Accuracy: 99.000000, Testing Loss: 0.000000, Testing Acc: 98.000000\n",
      "Epoch 54/100, Training Loss: 0.021370, Training Accuracy: 99.000000, Testing Loss: 0.000007, Testing Acc: 99.000000\n",
      "Epoch 55/100, Training Loss: 0.032902, Training Accuracy: 99.000000, Testing Loss: 0.000000, Testing Acc: 99.000000\n",
      "Epoch 56/100, Training Loss: 0.033918, Training Accuracy: 99.000000, Testing Loss: 0.000008, Testing Acc: 98.000000\n",
      "Epoch 57/100, Training Loss: 0.034589, Training Accuracy: 99.000000, Testing Loss: 0.000000, Testing Acc: 99.000000\n",
      "Epoch 58/100, Training Loss: 0.030758, Training Accuracy: 99.000000, Testing Loss: 0.000001, Testing Acc: 99.000000\n",
      "Epoch 59/100, Training Loss: 0.040572, Training Accuracy: 99.000000, Testing Loss: 0.000000, Testing Acc: 99.000000\n",
      "Epoch 60/100, Training Loss: 0.029935, Training Accuracy: 99.000000, Testing Loss: 0.000000, Testing Acc: 98.000000\n",
      "Epoch 61/100, Training Loss: 0.031500, Training Accuracy: 99.000000, Testing Loss: 0.000020, Testing Acc: 99.000000\n",
      "Epoch 62/100, Training Loss: 0.029516, Training Accuracy: 99.000000, Testing Loss: 0.000000, Testing Acc: 99.000000\n",
      "Epoch 63/100, Training Loss: 0.030677, Training Accuracy: 99.000000, Testing Loss: 0.000002, Testing Acc: 99.000000\n",
      "Epoch 64/100, Training Loss: 0.022586, Training Accuracy: 99.000000, Testing Loss: 0.000000, Testing Acc: 99.000000\n",
      "Epoch 65/100, Training Loss: 0.029196, Training Accuracy: 99.000000, Testing Loss: 0.000000, Testing Acc: 99.000000\n",
      "Epoch 66/100, Training Loss: 0.029853, Training Accuracy: 99.000000, Testing Loss: 0.000000, Testing Acc: 98.000000\n",
      "Epoch 67/100, Training Loss: 0.037190, Training Accuracy: 99.000000, Testing Loss: 0.000000, Testing Acc: 99.000000\n",
      "Epoch 68/100, Training Loss: 0.035955, Training Accuracy: 99.000000, Testing Loss: 0.000000, Testing Acc: 99.000000\n",
      "Epoch 69/100, Training Loss: 0.029768, Training Accuracy: 99.000000, Testing Loss: 0.000000, Testing Acc: 98.000000\n",
      "Epoch 70/100, Training Loss: 0.032743, Training Accuracy: 99.000000, Testing Loss: 0.000000, Testing Acc: 99.000000\n",
      "Epoch 71/100, Training Loss: 0.030204, Training Accuracy: 99.000000, Testing Loss: 0.000003, Testing Acc: 99.000000\n"
     ]
    },
    {
     "name": "stdout",
     "output_type": "stream",
     "text": [
      "Epoch 72/100, Training Loss: 0.032914, Training Accuracy: 99.000000, Testing Loss: 0.000000, Testing Acc: 99.000000\n",
      "Epoch 73/100, Training Loss: 0.028095, Training Accuracy: 99.000000, Testing Loss: 0.000001, Testing Acc: 99.000000\n",
      "Epoch 74/100, Training Loss: 0.030498, Training Accuracy: 99.000000, Testing Loss: 0.000000, Testing Acc: 98.000000\n",
      "Epoch 75/100, Training Loss: 0.026197, Training Accuracy: 99.000000, Testing Loss: 0.000000, Testing Acc: 99.000000\n",
      "Epoch 76/100, Training Loss: 0.032591, Training Accuracy: 99.000000, Testing Loss: 0.000000, Testing Acc: 98.000000\n",
      "Epoch 77/100, Training Loss: 0.037030, Training Accuracy: 99.000000, Testing Loss: 0.000000, Testing Acc: 99.000000\n",
      "Epoch 78/100, Training Loss: 0.029066, Training Accuracy: 99.000000, Testing Loss: 0.000000, Testing Acc: 99.000000\n",
      "Epoch 79/100, Training Loss: 0.027993, Training Accuracy: 99.000000, Testing Loss: 0.000003, Testing Acc: 99.000000\n",
      "Epoch 80/100, Training Loss: 0.026845, Training Accuracy: 99.000000, Testing Loss: 0.000000, Testing Acc: 99.000000\n",
      "Epoch 81/100, Training Loss: 0.032511, Training Accuracy: 99.000000, Testing Loss: 0.000000, Testing Acc: 98.000000\n",
      "Epoch 82/100, Training Loss: 0.032985, Training Accuracy: 99.000000, Testing Loss: 0.000000, Testing Acc: 99.000000\n",
      "Epoch 83/100, Training Loss: 0.025493, Training Accuracy: 99.000000, Testing Loss: 0.000000, Testing Acc: 99.000000\n",
      "Epoch 84/100, Training Loss: 0.021499, Training Accuracy: 99.000000, Testing Loss: 0.000000, Testing Acc: 99.000000\n",
      "Epoch 85/100, Training Loss: 0.027595, Training Accuracy: 99.000000, Testing Loss: 0.000000, Testing Acc: 99.000000\n",
      "Epoch 86/100, Training Loss: 0.038036, Training Accuracy: 99.000000, Testing Loss: 0.000000, Testing Acc: 98.000000\n",
      "Epoch 87/100, Training Loss: 0.030360, Training Accuracy: 99.000000, Testing Loss: 0.000000, Testing Acc: 99.000000\n",
      "Epoch 88/100, Training Loss: 0.029733, Training Accuracy: 99.000000, Testing Loss: 0.000000, Testing Acc: 99.000000\n",
      "Epoch 89/100, Training Loss: 0.029604, Training Accuracy: 99.000000, Testing Loss: 0.000000, Testing Acc: 98.000000\n",
      "Epoch 90/100, Training Loss: 0.026694, Training Accuracy: 99.000000, Testing Loss: 0.000000, Testing Acc: 99.000000\n",
      "Epoch 91/100, Training Loss: 0.028082, Training Accuracy: 99.000000, Testing Loss: 0.000000, Testing Acc: 99.000000\n",
      "Epoch 92/100, Training Loss: 0.034235, Training Accuracy: 99.000000, Testing Loss: 0.000000, Testing Acc: 98.000000\n",
      "Epoch 93/100, Training Loss: 0.030975, Training Accuracy: 99.000000, Testing Loss: 0.000000, Testing Acc: 99.000000\n",
      "Epoch 94/100, Training Loss: 0.032698, Training Accuracy: 99.000000, Testing Loss: 0.000004, Testing Acc: 99.000000\n",
      "Epoch 95/100, Training Loss: 0.032249, Training Accuracy: 99.000000, Testing Loss: 0.000000, Testing Acc: 99.000000\n",
      "Epoch 96/100, Training Loss: 0.024546, Training Accuracy: 99.000000, Testing Loss: 0.000000, Testing Acc: 99.000000\n",
      "Epoch 97/100, Training Loss: 0.034453, Training Accuracy: 99.000000, Testing Loss: 0.000000, Testing Acc: 99.000000\n",
      "Epoch 98/100, Training Loss: 0.023852, Training Accuracy: 99.000000, Testing Loss: 0.000000, Testing Acc: 99.000000\n",
      "Epoch 99/100, Training Loss: 0.030838, Training Accuracy: 99.000000, Testing Loss: 0.000000, Testing Acc: 98.000000\n",
      "Epoch 100/100, Training Loss: 0.034480, Training Accuracy: 99.000000, Testing Loss: 0.000075, Testing Acc: 98.000000\n"
     ]
    }
   ],
   "source": [
    "#Training the CNN\n",
    "\n",
    "num_epochs = 100\n",
    "train_loss = []\n",
    "test_loss = []\n",
    "train_accuracy = []\n",
    "test_accuracy = []\n",
    "\n",
    "for epoch in range(num_epochs): \n",
    "    correct = 0\n",
    "    iterations = 0\n",
    "    iter_loss = 0.0\n",
    "    \n",
    "    model.train()\n",
    "    \n",
    "    for i, (inputs, labels) in enumerate(train_load):\n",
    "        \n",
    "        # Convert torch tensor to Variable\n",
    "        inputs = Variable(inputs)\n",
    "        labels = Variable(labels)\n",
    "        \n",
    "        # If we have GPU, shift the data to GPU\n",
    "        CUDA = torch.cuda.is_available()\n",
    "        if CUDA:\n",
    "            inputs = inputs.cuda()\n",
    "            labels = labels.cuda()\n",
    "        \n",
    "        optimizer.zero_grad()            # Clear off the gradient in (w = w - gradient)\n",
    "        outputs = model(inputs)         \n",
    "        loss = loss_fn(outputs, labels)  \n",
    "        iter_loss += loss.data[0]       # Accumulate the loss\n",
    "        loss.backward()                 # Backpropagation \n",
    "        optimizer.step()                # Update the weights\n",
    "        \n",
    "        # Record the correct predictions for training data \n",
    "        _, predicted = torch.max(outputs, 1)\n",
    "        correct += (predicted == labels).sum()\n",
    "        iterations += 1\n",
    "    \n",
    "    # Record the training loss\n",
    "    train_loss.append(iter_loss/iterations)\n",
    "    # Record the training accuracy\n",
    "    train_accuracy.append((100 * correct / len(train_dataset)))\n",
    "   \n",
    "    #Testing\n",
    "    loss = 0.0\n",
    "    correct = 0\n",
    "    iterations = 0\n",
    "\n",
    "    model.eval()                    # Put the network into evaluation mode\n",
    "    \n",
    "    for i, (inputs, labels) in enumerate(test_load):\n",
    "        \n",
    "        # Convert torch tensor to Variable\n",
    "        inputs = Variable(inputs)\n",
    "        labels = Variable(labels)\n",
    "        \n",
    "        CUDA = torch.cuda.is_available()\n",
    "        if CUDA:\n",
    "            inputs = inputs.cuda()\n",
    "            labels = labels.cuda()\n",
    "        \n",
    "        outputs = model(inputs)     \n",
    "        loss = loss_fn(outputs, labels) # Calculate the loss\n",
    "        loss += loss.data[0]\n",
    "        # Record the correct predictions for training data\n",
    "        _, predicted = torch.max(outputs, 1)\n",
    "        correct += (predicted == labels).sum()\n",
    "        \n",
    "        iterations += 1\n",
    "\n",
    "    # Record the Testing loss\n",
    "    test_loss.append(loss/iterations)\n",
    "    # Record the Testing accuracy\n",
    "    test_accuracy.append((100 * correct / len(test_dataset)))\n",
    "    \n",
    "    print ('Epoch {}/{}, Training Loss: {:.6f}, Training Accuracy: {:.6f}, Testing Loss: {:.6f}, Testing Acc: {:.6f}'\n",
    "           .format(epoch+1, num_epochs, train_loss[-1], train_accuracy[-1], \n",
    "             test_loss[-1], test_accuracy[-1]))"
   ]
  },
  {
   "cell_type": "code",
   "execution_count": 12,
   "metadata": {},
   "outputs": [],
   "source": [
    "torch.save(model.state_dict(),'model.pth')"
   ]
  },
  {
   "cell_type": "code",
   "execution_count": 13,
   "metadata": {},
   "outputs": [
    {
     "data": {
      "image/png": "[encoded data removed]",
      "text/plain": [
       "<Figure size 720x720 with 1 Axes>"
      ]
     },
     "metadata": {},
     "output_type": "display_data"
    }
   ],
   "source": [
    "# Loss\n",
    "f = plt.figure(figsize=(10, 10))\n",
    "plt.plot(train_loss, label='Training Loss')\n",
    "plt.plot(test_loss, label='Testing Loss')\n",
    "plt.legend()\n",
    "plt.show()"
   ]
  },
  {
   "cell_type": "code",
   "execution_count": 14,
   "metadata": {},
   "outputs": [
    {
     "data": {
      "image/png": "[encoded data removed]",
      "text/plain": [
       "<Figure size 720x720 with 1 Axes>"
      ]
     },
     "metadata": {},
     "output_type": "display_data"
    }
   ],
   "source": [
    "# Accuracy\n",
    "f = plt.figure(figsize=(10, 10))\n",
    "plt.plot(train_accuracy, label='Training Accuracy')\n",
    "plt.plot(test_accuracy, label='Testing Accuracy')\n",
    "plt.legend()\n",
    "plt.show()"
   ]
  }
 ],
 "metadata": {
  "kernelspec": {
   "display_name": "Python 3",
   "language": "python",
   "name": "python3"
  },
  "language_info": {
   "codemirror_mode": {
    "name": "ipython",
    "version": 3
   },
   "file_extension": ".py",
   "mimetype": "text/x-python",
   "name": "python",
   "nbconvert_exporter": "python",
   "pygments_lexer": "ipython3",
   "version": "3.7.3"
  }
 },
 "nbformat": 4,
 "nbformat_minor": 2
}
